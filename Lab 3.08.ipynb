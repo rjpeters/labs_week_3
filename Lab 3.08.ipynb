{
 "cells": [
  {
   "cell_type": "markdown",
   "id": "f84eb44a",
   "metadata": {},
   "source": [
    "# Lab 3.08"
   ]
  },
  {
   "cell_type": "markdown",
   "id": "e1bc9adf",
   "metadata": {},
   "source": [
    "In this lab, you will be using the Sakila database of movie rentals.\n",
    "\n",
    "In order to optimize our inventory, we would like to know which films will be rented next month and we are asked to create a model to predict it.\n",
    "Instructions\n",
    "\n",
    "- Create a query or queries to extract the information you think may be relevant for building the prediction model. It should include some film features and some rental features. Use the data from 2005.\n",
    "- Create a query to get the list of films and a boolean indicating if it was rented last month (August 2005). This would be our target variable.\n",
    "- Read the data into a Pandas dataframe.\n",
    "- Analyze extracted features and transform them. You may need to encode some categorical variables, or scale numerical variables.\n",
    "- Create a logistic regression model to predict this variable from the cleaned data.\n",
    "- Evaluate the results.\n"
   ]
  },
  {
   "cell_type": "markdown",
   "id": "30772a1f",
   "metadata": {},
   "source": [
    "## 1. Create a query or queries to extract the information you think may be relevant for building the prediction model. It should include some film features and some rental features. Use the data from 2005."
   ]
  },
  {
   "cell_type": "markdown",
   "id": "3205b20b",
   "metadata": {},
   "source": [
    "This is the info I think I need: "
   ]
  },
  {
   "cell_type": "raw",
   "id": "5d3ac11c",
   "metadata": {},
   "source": [
    "In a single query: \n",
    "\n",
    "SELECT f.film_id, \n",
    "       f.title, \n",
    "       f.rental_rate,\n",
    "       f.length,\n",
    "       f.rating,\n",
    "       c.name AS category,\n",
    "       r.rental_id, \n",
    "       r.rental_date, \n",
    "       r.return_date, \n",
    "FROM film f\n",
    "JOIN inventory USING(film_id)\n",
    "JOIN rental r USING(inventory_id)\n",
    "JOIN film_category fc ON f.film_id = fc.film_id\n",
    "JOIN category c ON fc.category_id = c.category_id;"
   ]
  },
  {
   "cell_type": "markdown",
   "id": "99c4fbd9",
   "metadata": {},
   "source": [
    "#### (Later relization: film_id and rental_id could have been dropped here, as I don't really need them anymore)"
   ]
  },
  {
   "cell_type": "markdown",
   "id": "3cb25310",
   "metadata": {},
   "source": [
    "## 2. Create a query to get the list of films and a boolean indicating if it was rented last month (August 2005). This would be our target variable."
   ]
  },
  {
   "cell_type": "raw",
   "id": "f1ed902f",
   "metadata": {},
   "source": [
    "SELECT  f.film_id, \n",
    "        r.rental_date, \n",
    "        CASE WHEN MONTH(r.rental_date) = 8 \n",
    "            THEN \"True\"\n",
    "            ELSE \"False\"\n",
    "            END AS rented_last_month \n",
    "        FROM film f\n",
    "JOIN inventory USING(film_id)\n",
    "JOIN rental r USING(inventory_id);"
   ]
  },
  {
   "cell_type": "markdown",
   "id": "a8978c66",
   "metadata": {},
   "source": [
    "SELECT f.film_id, \n",
    "       f.title, \n",
    "       f.rental_rate,\n",
    "       f.length,\n",
    "       f.rating,\n",
    "       c.name AS category,\n",
    "       r.rental_id, \n",
    "       r.rental_date, \n",
    "       r.return_date, \n",
    "       CASE WHEN MONTH(r.rental_date) = 8 \n",
    "            THEN \"True\"\n",
    "            ELSE \"False\"\n",
    "            END AS rented_last_month \n",
    "       FROM film f\n",
    "JOIN inventory USING(film_id)\n",
    "JOIN rental r USING(inventory_id)\n",
    "JOIN film_category fc ON f.film_id = fc.film_id\n",
    "JOIN category c ON fc.category_id = c.category_id;"
   ]
  },
  {
   "cell_type": "markdown",
   "id": "2e504c67",
   "metadata": {},
   "source": [
    "(Another later realization: what I do here is to check for every *copy* of the movie whether it was rented last month. But it would make more sense to get that info for every *movie*)"
   ]
  },
  {
   "cell_type": "raw",
   "id": "5f4a348a",
   "metadata": {},
   "source": [
    "# Second pass:\n",
    "\n",
    "SELECT DISTINCT f.film_id, \n",
    "       f.title, \n",
    "       f.rental_rate,\n",
    "       f.length,\n",
    "       f.rating,\n",
    "       c.name AS category,\n",
    "       CASE WHEN MONTH(r.rental_date) = 8 \n",
    "            THEN \"True\"\n",
    "            ELSE \"False\"\n",
    "            END AS rented_last_month \n",
    "       FROM film f\n",
    "JOIN inventory USING(film_id)\n",
    "JOIN rental r USING(inventory_id)\n",
    "JOIN film_category fc ON f.film_id = fc.film_id\n",
    "JOIN category c ON fc.category_id = c.category_id;"
   ]
  },
  {
   "cell_type": "markdown",
   "id": "e90276fd",
   "metadata": {},
   "source": [
    "#### HOWEVER: exploring this in MySQL Workbench showed me that every movie, at least one copy has been rented last month - this returns one 'True' and one 'False' row for every movie. So this is not very helpful for regression, to say the least."
   ]
  },
  {
   "cell_type": "markdown",
   "id": "876b4c72",
   "metadata": {},
   "source": [
    "## 3. Read the data into a Pandas dataframe."
   ]
  },
  {
   "cell_type": "code",
   "execution_count": null,
   "id": "42763c57",
   "metadata": {
    "scrolled": true
   },
   "outputs": [],
   "source": [
    "# THIS WAS THE FIRST PASS, WHERE I DID IT WRONG\n",
    "\n",
    "\n",
    "import pymysql\n",
    "from sqlalchemy import create_engine\n",
    "import pandas as pd\n",
    "import getpass\n",
    "import numpy as np\n",
    "password = getpass.getpass()\n",
    "\n",
    "# get the data\n",
    "connection_string = 'mysql+pymysql://root:' + password + '@localhost/sakila'\n",
    "engine = create_engine(connection_string)\n",
    "query = '''SELECT f.film_id, \n",
    "       f.title, \n",
    "       f.rental_rate,\n",
    "       f.length,\n",
    "       f.rating,\n",
    "       c.name AS category,\n",
    "       r.rental_id, \n",
    "       r.rental_date, \n",
    "       r.return_date, \n",
    "       CASE WHEN MONTH(r.rental_date) = 8 \n",
    "            THEN \"True\"\n",
    "            ELSE \"False\"\n",
    "            END AS rented_last_month \n",
    "       FROM film f\n",
    "JOIN inventory USING(film_id)\n",
    "JOIN rental r USING(inventory_id)\n",
    "JOIN film_category fc ON f.film_id = fc.film_id\n",
    "JOIN category c ON fc.category_id = c.category_id;'''\n",
    "\n",
    "data = pd.read_sql_query(query, engine)\n",
    "data.shape"
   ]
  },
  {
   "cell_type": "code",
   "execution_count": 1,
   "id": "73ca4856",
   "metadata": {},
   "outputs": [
    {
     "name": "stdout",
     "output_type": "stream",
     "text": [
      "········\n"
     ]
    },
    {
     "data": {
      "text/plain": [
       "(1644, 7)"
      ]
     },
     "execution_count": 1,
     "metadata": {},
     "output_type": "execute_result"
    }
   ],
   "source": [
    "# THIS IS THE RIGHT ONE: SAME THING, BUT WITHOUT ALL THE RENTAL DATES AND IDs, AND WITH SELECT DISTINCT\n",
    "\n",
    "import pymysql\n",
    "from sqlalchemy import create_engine\n",
    "import pandas as pd\n",
    "import getpass\n",
    "password = getpass.getpass()\n",
    "\n",
    "# get the data\n",
    "connection_string = 'mysql+pymysql://root:' + password + '@localhost/sakila'\n",
    "engine = create_engine(connection_string)\n",
    "query = '''SELECT DISTINCT f.film_id, \n",
    "       f.title, \n",
    "       f.rental_rate,\n",
    "       f.length,\n",
    "       f.rating,\n",
    "       c.name AS category,\n",
    "       CASE WHEN MONTH(r.rental_date) = 5\n",
    "            THEN \"True\"\n",
    "            ELSE \"False\"\n",
    "            END AS rented_last_month \n",
    "       FROM film f\n",
    "JOIN inventory USING(film_id)\n",
    "JOIN rental r USING(inventory_id)\n",
    "JOIN film_category fc ON f.film_id = fc.film_id\n",
    "JOIN category c ON fc.category_id = c.category_id;'''\n",
    "\n",
    "data = pd.read_sql_query(query, engine)\n",
    "data.shape"
   ]
  },
  {
   "cell_type": "markdown",
   "id": "15aa9225",
   "metadata": {},
   "source": [
    "This gives 958 unique films, although there are 1000 films in the table 'films'. The reason for this is the joins: there are 42 films in the 'films' table which are not in the inventory."
   ]
  },
  {
   "cell_type": "markdown",
   "id": "1ce8d6f8",
   "metadata": {},
   "source": [
    "I'm **sure** there's some more elegant way to only get 958 rows - as it is, I get a rough dataset from SQL and clean it up in Pandas. If I have time (which I doubt I will) I might go back to see if I can get the SQL query perfect right away (saving me a few steps in pandas)."
   ]
  },
  {
   "cell_type": "markdown",
   "id": "c453282c",
   "metadata": {},
   "source": [
    "## 4. Analyze extracted features and transform them. You may need to encode some categorical variables, or scale numerical variables."
   ]
  },
  {
   "cell_type": "code",
   "execution_count": null,
   "id": "8c5db608",
   "metadata": {
    "scrolled": true
   },
   "outputs": [],
   "source": [
    "data.tail(60)"
   ]
  },
  {
   "cell_type": "code",
   "execution_count": 2,
   "id": "cf2d3cc9",
   "metadata": {},
   "outputs": [],
   "source": [
    "# Now I want to clean this up: for every movie where a 'True' exists I want to drop the 'False' column. \n",
    "\n",
    "# The first way that occurs to me is to generate a new list from all of the rows. \n",
    "\n",
    "newlist = []\n",
    "for i in data.index[:-1]: # I need the slicing to also get the last one working (else it'll iterate further than the last index and break)\n",
    "\n",
    "    # The first one in a set of two gets a 'True' (there are only sets where one is true, because of SELECT DISTINCT in SQL)\n",
    "    if data['title'][i] == data['title'][i+1]: \n",
    "        newlist.append(\"True\")\n",
    "        \n",
    "    # The second one in a set gets passed over - nothing gets added\n",
    "    elif data['title'][i] == data['title'][i-1]:\n",
    "        pass\n",
    "    \n",
    "    # And if something is neither the first nor the second one in a set, it is itself either true or false:\n",
    "    else: newlist.append(data['rented_last_month'][i])\n",
    "        \n"
   ]
  },
  {
   "cell_type": "markdown",
   "id": "864be769",
   "metadata": {},
   "source": [
    "Note: I'm using \"True\" and \"False\" strings rather than Booleans, because I do not need python to interact with the data in any way. Since the imported stuff from SQL was structured as strings, I stuck with that. "
   ]
  },
  {
   "cell_type": "code",
   "execution_count": 3,
   "id": "50b7fa40",
   "metadata": {},
   "outputs": [],
   "source": [
    "# Next, I'll remove all the duplicate titles from my data: \n",
    "\n",
    "data = data.drop_duplicates(subset='title')\n"
   ]
  },
  {
   "cell_type": "code",
   "execution_count": 4,
   "id": "53222824",
   "metadata": {},
   "outputs": [],
   "source": [
    "# And then, set the 'newlist' with Booleans into the dataframe, as 'rented_last_month'\n",
    "\n",
    "data['rented_last_month'] = newlist"
   ]
  },
  {
   "cell_type": "code",
   "execution_count": 6,
   "id": "b72b2cc9",
   "metadata": {},
   "outputs": [
    {
     "data": {
      "text/html": [
       "<div>\n",
       "<style scoped>\n",
       "    .dataframe tbody tr th:only-of-type {\n",
       "        vertical-align: middle;\n",
       "    }\n",
       "\n",
       "    .dataframe tbody tr th {\n",
       "        vertical-align: top;\n",
       "    }\n",
       "\n",
       "    .dataframe thead th {\n",
       "        text-align: right;\n",
       "    }\n",
       "</style>\n",
       "<table border=\"1\" class=\"dataframe\">\n",
       "  <thead>\n",
       "    <tr style=\"text-align: right;\">\n",
       "      <th></th>\n",
       "      <th>film_id</th>\n",
       "      <th>title</th>\n",
       "      <th>rental_rate</th>\n",
       "      <th>length</th>\n",
       "      <th>rating</th>\n",
       "      <th>category</th>\n",
       "      <th>rented_last_month</th>\n",
       "    </tr>\n",
       "  </thead>\n",
       "  <tbody>\n",
       "    <tr>\n",
       "      <th>1637</th>\n",
       "      <td>931</td>\n",
       "      <td>VALENTINE VANISHING</td>\n",
       "      <td>0.99</td>\n",
       "      <td>48</td>\n",
       "      <td>PG-13</td>\n",
       "      <td>Travel</td>\n",
       "      <td>True</td>\n",
       "    </tr>\n",
       "    <tr>\n",
       "      <th>1639</th>\n",
       "      <td>977</td>\n",
       "      <td>WINDOW SIDE</td>\n",
       "      <td>2.99</td>\n",
       "      <td>85</td>\n",
       "      <td>R</td>\n",
       "      <td>Travel</td>\n",
       "      <td>False</td>\n",
       "    </tr>\n",
       "    <tr>\n",
       "      <th>1640</th>\n",
       "      <td>981</td>\n",
       "      <td>WOLVES DESIRE</td>\n",
       "      <td>0.99</td>\n",
       "      <td>55</td>\n",
       "      <td>NC-17</td>\n",
       "      <td>Travel</td>\n",
       "      <td>False</td>\n",
       "    </tr>\n",
       "    <tr>\n",
       "      <th>1641</th>\n",
       "      <td>988</td>\n",
       "      <td>WORKER TARZAN</td>\n",
       "      <td>2.99</td>\n",
       "      <td>139</td>\n",
       "      <td>R</td>\n",
       "      <td>Travel</td>\n",
       "      <td>False</td>\n",
       "    </tr>\n",
       "    <tr>\n",
       "      <th>1642</th>\n",
       "      <td>989</td>\n",
       "      <td>WORKING MICROCOSMOS</td>\n",
       "      <td>4.99</td>\n",
       "      <td>74</td>\n",
       "      <td>R</td>\n",
       "      <td>Travel</td>\n",
       "      <td>True</td>\n",
       "    </tr>\n",
       "  </tbody>\n",
       "</table>\n",
       "</div>"
      ],
      "text/plain": [
       "      film_id                title  rental_rate  length rating category  \\\n",
       "1637      931  VALENTINE VANISHING         0.99      48  PG-13   Travel   \n",
       "1639      977          WINDOW SIDE         2.99      85      R   Travel   \n",
       "1640      981        WOLVES DESIRE         0.99      55  NC-17   Travel   \n",
       "1641      988        WORKER TARZAN         2.99     139      R   Travel   \n",
       "1642      989  WORKING MICROCOSMOS         4.99      74      R   Travel   \n",
       "\n",
       "     rented_last_month  \n",
       "1637              True  \n",
       "1639             False  \n",
       "1640             False  \n",
       "1641             False  \n",
       "1642              True  "
      ]
     },
     "execution_count": 6,
     "metadata": {},
     "output_type": "execute_result"
    }
   ],
   "source": [
    "data.tail()"
   ]
  },
  {
   "cell_type": "code",
   "execution_count": 7,
   "id": "5b771673",
   "metadata": {
    "scrolled": true
   },
   "outputs": [
    {
     "data": {
      "text/plain": [
       "film_id                int64\n",
       "title                 object\n",
       "rental_rate          float64\n",
       "length                 int64\n",
       "rating                object\n",
       "category              object\n",
       "rented_last_month     object\n",
       "dtype: object"
      ]
     },
     "execution_count": 7,
     "metadata": {},
     "output_type": "execute_result"
    }
   ],
   "source": [
    "data.dtypes"
   ]
  },
  {
   "cell_type": "code",
   "execution_count": 8,
   "id": "b0d0e08d",
   "metadata": {
    "scrolled": true
   },
   "outputs": [
    {
     "data": {
      "text/plain": [
       "film_id              0\n",
       "title                0\n",
       "rental_rate          0\n",
       "length               0\n",
       "rating               0\n",
       "category             0\n",
       "rented_last_month    0\n",
       "dtype: int64"
      ]
     },
     "execution_count": 8,
     "metadata": {},
     "output_type": "execute_result"
    }
   ],
   "source": [
    "data.isna().sum()"
   ]
  },
  {
   "cell_type": "markdown",
   "id": "ba0f5105",
   "metadata": {},
   "source": [
    "I can drop the film_id and title at this point:"
   ]
  },
  {
   "cell_type": "code",
   "execution_count": 9,
   "id": "a7ac905e",
   "metadata": {},
   "outputs": [],
   "source": [
    "data = data.drop(columns= ['film_id', 'title'])"
   ]
  },
  {
   "cell_type": "markdown",
   "id": "f675ed2e",
   "metadata": {},
   "source": [
    "The I have two categorical columns to (potentially) encode: rating and category."
   ]
  },
  {
   "cell_type": "code",
   "execution_count": 10,
   "id": "93b673a8",
   "metadata": {
    "scrolled": true
   },
   "outputs": [
    {
     "data": {
      "text/plain": [
       "PG-13    213\n",
       "NC-17    202\n",
       "R        189\n",
       "PG       183\n",
       "G        171\n",
       "Name: rating, dtype: int64"
      ]
     },
     "execution_count": 10,
     "metadata": {},
     "output_type": "execute_result"
    }
   ],
   "source": [
    "data.rating.value_counts()"
   ]
  },
  {
   "cell_type": "code",
   "execution_count": 11,
   "id": "bb47d469",
   "metadata": {},
   "outputs": [
    {
     "data": {
      "text/plain": [
       "Sports         73\n",
       "Family         67\n",
       "Foreign        67\n",
       "Animation      64\n",
       "Documentary    63\n",
       "Action         61\n",
       "Drama          61\n",
       "New            60\n",
       "Sci-Fi         59\n",
       "Children       58\n",
       "Games          58\n",
       "Comedy         56\n",
       "Classics       54\n",
       "Horror         53\n",
       "Travel         53\n",
       "Music          51\n",
       "Name: category, dtype: int64"
      ]
     },
     "execution_count": 11,
     "metadata": {},
     "output_type": "execute_result"
    }
   ],
   "source": [
    "data.category.value_counts()"
   ]
  },
  {
   "cell_type": "code",
   "execution_count": null,
   "id": "a5949a38",
   "metadata": {},
   "outputs": [],
   "source": [
    "# Note to self: I might want to drop the whole 'category' column if the encoded data becomes too unwieldy."
   ]
  },
  {
   "cell_type": "markdown",
   "id": "c15d4aef",
   "metadata": {},
   "source": [
    "## X-y split"
   ]
  },
  {
   "cell_type": "code",
   "execution_count": 12,
   "id": "cd6b60e2",
   "metadata": {},
   "outputs": [],
   "source": [
    "X = data.drop(columns = ['rented_last_month'])\n",
    "y = data['rented_last_month']"
   ]
  },
  {
   "cell_type": "markdown",
   "id": "0c4cf964",
   "metadata": {},
   "source": [
    "## Train-test split"
   ]
  },
  {
   "cell_type": "code",
   "execution_count": 13,
   "id": "c20b2190",
   "metadata": {},
   "outputs": [],
   "source": [
    "import numpy as np\n",
    "from sklearn.model_selection import train_test_split\n",
    "X_train, X_test, y_train, y_test = train_test_split(X, y, test_size=0.2, random_state=420)"
   ]
  },
  {
   "cell_type": "markdown",
   "id": "59756620",
   "metadata": {},
   "source": [
    "## Numerical - categorical \"split\""
   ]
  },
  {
   "cell_type": "code",
   "execution_count": 14,
   "id": "29d94c78",
   "metadata": {},
   "outputs": [],
   "source": [
    "X_train_num = X_train.select_dtypes(include = np.number)\n",
    "X_test_num = X_test.select_dtypes(include = np.number)\n",
    "\n",
    "X_train_cat = X_train.select_dtypes(include = object)\n",
    "X_test_cat = X_test.select_dtypes(include = object)"
   ]
  },
  {
   "cell_type": "markdown",
   "id": "91f66ecd",
   "metadata": {},
   "source": [
    "## Normalize numerical data"
   ]
  },
  {
   "cell_type": "code",
   "execution_count": 15,
   "id": "b8be8cd8",
   "metadata": {},
   "outputs": [],
   "source": [
    "from sklearn.preprocessing import MinMaxScaler\n",
    "\n",
    "transformer = MinMaxScaler().fit(X_train_num) \n",
    "\n",
    "# Training data\n",
    "\n",
    "X_train_normalized = transformer.transform(X_train_num)\n",
    "X_train_norm = pd.DataFrame(X_train_normalized, columns = X_train_num.columns)\n"
   ]
  },
  {
   "cell_type": "code",
   "execution_count": 16,
   "id": "41a9a339",
   "metadata": {},
   "outputs": [],
   "source": [
    "# test data\n",
    "\n",
    "\n",
    "X_test_normalized = transformer.transform(X_test_num)\n",
    "X_test_norm = pd.DataFrame(X_test_normalized, columns = X_test_num.columns)"
   ]
  },
  {
   "cell_type": "markdown",
   "id": "2a0c071f",
   "metadata": {},
   "source": [
    "## Encode categorical data"
   ]
  },
  {
   "cell_type": "code",
   "execution_count": 19,
   "id": "7fd8bc83",
   "metadata": {},
   "outputs": [
    {
     "data": {
      "text/html": [
       "<div>\n",
       "<style scoped>\n",
       "    .dataframe tbody tr th:only-of-type {\n",
       "        vertical-align: middle;\n",
       "    }\n",
       "\n",
       "    .dataframe tbody tr th {\n",
       "        vertical-align: top;\n",
       "    }\n",
       "\n",
       "    .dataframe thead th {\n",
       "        text-align: right;\n",
       "    }\n",
       "</style>\n",
       "<table border=\"1\" class=\"dataframe\">\n",
       "  <thead>\n",
       "    <tr style=\"text-align: right;\">\n",
       "      <th></th>\n",
       "      <th>rating_NC-17</th>\n",
       "      <th>rating_PG</th>\n",
       "      <th>rating_PG-13</th>\n",
       "      <th>rating_R</th>\n",
       "      <th>category_Animation</th>\n",
       "      <th>category_Children</th>\n",
       "      <th>category_Classics</th>\n",
       "      <th>category_Comedy</th>\n",
       "      <th>category_Documentary</th>\n",
       "      <th>category_Drama</th>\n",
       "      <th>category_Family</th>\n",
       "      <th>category_Foreign</th>\n",
       "      <th>category_Games</th>\n",
       "      <th>category_Horror</th>\n",
       "      <th>category_Music</th>\n",
       "      <th>category_New</th>\n",
       "      <th>category_Sci-Fi</th>\n",
       "      <th>category_Sports</th>\n",
       "      <th>category_Travel</th>\n",
       "    </tr>\n",
       "  </thead>\n",
       "  <tbody>\n",
       "    <tr>\n",
       "      <th>0</th>\n",
       "      <td>1.0</td>\n",
       "      <td>0.0</td>\n",
       "      <td>0.0</td>\n",
       "      <td>0.0</td>\n",
       "      <td>0.0</td>\n",
       "      <td>0.0</td>\n",
       "      <td>0.0</td>\n",
       "      <td>0.0</td>\n",
       "      <td>0.0</td>\n",
       "      <td>0.0</td>\n",
       "      <td>0.0</td>\n",
       "      <td>0.0</td>\n",
       "      <td>0.0</td>\n",
       "      <td>0.0</td>\n",
       "      <td>0.0</td>\n",
       "      <td>0.0</td>\n",
       "      <td>0.0</td>\n",
       "      <td>0.0</td>\n",
       "      <td>0.0</td>\n",
       "    </tr>\n",
       "    <tr>\n",
       "      <th>1</th>\n",
       "      <td>0.0</td>\n",
       "      <td>0.0</td>\n",
       "      <td>0.0</td>\n",
       "      <td>1.0</td>\n",
       "      <td>0.0</td>\n",
       "      <td>0.0</td>\n",
       "      <td>0.0</td>\n",
       "      <td>0.0</td>\n",
       "      <td>0.0</td>\n",
       "      <td>0.0</td>\n",
       "      <td>0.0</td>\n",
       "      <td>0.0</td>\n",
       "      <td>0.0</td>\n",
       "      <td>0.0</td>\n",
       "      <td>0.0</td>\n",
       "      <td>0.0</td>\n",
       "      <td>0.0</td>\n",
       "      <td>1.0</td>\n",
       "      <td>0.0</td>\n",
       "    </tr>\n",
       "    <tr>\n",
       "      <th>2</th>\n",
       "      <td>1.0</td>\n",
       "      <td>0.0</td>\n",
       "      <td>0.0</td>\n",
       "      <td>0.0</td>\n",
       "      <td>0.0</td>\n",
       "      <td>0.0</td>\n",
       "      <td>0.0</td>\n",
       "      <td>0.0</td>\n",
       "      <td>0.0</td>\n",
       "      <td>0.0</td>\n",
       "      <td>0.0</td>\n",
       "      <td>0.0</td>\n",
       "      <td>0.0</td>\n",
       "      <td>0.0</td>\n",
       "      <td>0.0</td>\n",
       "      <td>1.0</td>\n",
       "      <td>0.0</td>\n",
       "      <td>0.0</td>\n",
       "      <td>0.0</td>\n",
       "    </tr>\n",
       "    <tr>\n",
       "      <th>3</th>\n",
       "      <td>0.0</td>\n",
       "      <td>1.0</td>\n",
       "      <td>0.0</td>\n",
       "      <td>0.0</td>\n",
       "      <td>1.0</td>\n",
       "      <td>0.0</td>\n",
       "      <td>0.0</td>\n",
       "      <td>0.0</td>\n",
       "      <td>0.0</td>\n",
       "      <td>0.0</td>\n",
       "      <td>0.0</td>\n",
       "      <td>0.0</td>\n",
       "      <td>0.0</td>\n",
       "      <td>0.0</td>\n",
       "      <td>0.0</td>\n",
       "      <td>0.0</td>\n",
       "      <td>0.0</td>\n",
       "      <td>0.0</td>\n",
       "      <td>0.0</td>\n",
       "    </tr>\n",
       "    <tr>\n",
       "      <th>4</th>\n",
       "      <td>1.0</td>\n",
       "      <td>0.0</td>\n",
       "      <td>0.0</td>\n",
       "      <td>0.0</td>\n",
       "      <td>0.0</td>\n",
       "      <td>0.0</td>\n",
       "      <td>0.0</td>\n",
       "      <td>0.0</td>\n",
       "      <td>0.0</td>\n",
       "      <td>0.0</td>\n",
       "      <td>0.0</td>\n",
       "      <td>0.0</td>\n",
       "      <td>0.0</td>\n",
       "      <td>0.0</td>\n",
       "      <td>0.0</td>\n",
       "      <td>0.0</td>\n",
       "      <td>0.0</td>\n",
       "      <td>1.0</td>\n",
       "      <td>0.0</td>\n",
       "    </tr>\n",
       "    <tr>\n",
       "      <th>...</th>\n",
       "      <td>...</td>\n",
       "      <td>...</td>\n",
       "      <td>...</td>\n",
       "      <td>...</td>\n",
       "      <td>...</td>\n",
       "      <td>...</td>\n",
       "      <td>...</td>\n",
       "      <td>...</td>\n",
       "      <td>...</td>\n",
       "      <td>...</td>\n",
       "      <td>...</td>\n",
       "      <td>...</td>\n",
       "      <td>...</td>\n",
       "      <td>...</td>\n",
       "      <td>...</td>\n",
       "      <td>...</td>\n",
       "      <td>...</td>\n",
       "      <td>...</td>\n",
       "      <td>...</td>\n",
       "    </tr>\n",
       "    <tr>\n",
       "      <th>761</th>\n",
       "      <td>0.0</td>\n",
       "      <td>1.0</td>\n",
       "      <td>0.0</td>\n",
       "      <td>0.0</td>\n",
       "      <td>0.0</td>\n",
       "      <td>0.0</td>\n",
       "      <td>0.0</td>\n",
       "      <td>0.0</td>\n",
       "      <td>0.0</td>\n",
       "      <td>0.0</td>\n",
       "      <td>0.0</td>\n",
       "      <td>0.0</td>\n",
       "      <td>0.0</td>\n",
       "      <td>0.0</td>\n",
       "      <td>0.0</td>\n",
       "      <td>0.0</td>\n",
       "      <td>1.0</td>\n",
       "      <td>0.0</td>\n",
       "      <td>0.0</td>\n",
       "    </tr>\n",
       "    <tr>\n",
       "      <th>762</th>\n",
       "      <td>0.0</td>\n",
       "      <td>0.0</td>\n",
       "      <td>0.0</td>\n",
       "      <td>1.0</td>\n",
       "      <td>0.0</td>\n",
       "      <td>0.0</td>\n",
       "      <td>0.0</td>\n",
       "      <td>0.0</td>\n",
       "      <td>0.0</td>\n",
       "      <td>0.0</td>\n",
       "      <td>0.0</td>\n",
       "      <td>0.0</td>\n",
       "      <td>1.0</td>\n",
       "      <td>0.0</td>\n",
       "      <td>0.0</td>\n",
       "      <td>0.0</td>\n",
       "      <td>0.0</td>\n",
       "      <td>0.0</td>\n",
       "      <td>0.0</td>\n",
       "    </tr>\n",
       "    <tr>\n",
       "      <th>763</th>\n",
       "      <td>0.0</td>\n",
       "      <td>0.0</td>\n",
       "      <td>0.0</td>\n",
       "      <td>1.0</td>\n",
       "      <td>0.0</td>\n",
       "      <td>0.0</td>\n",
       "      <td>0.0</td>\n",
       "      <td>0.0</td>\n",
       "      <td>0.0</td>\n",
       "      <td>1.0</td>\n",
       "      <td>0.0</td>\n",
       "      <td>0.0</td>\n",
       "      <td>0.0</td>\n",
       "      <td>0.0</td>\n",
       "      <td>0.0</td>\n",
       "      <td>0.0</td>\n",
       "      <td>0.0</td>\n",
       "      <td>0.0</td>\n",
       "      <td>0.0</td>\n",
       "    </tr>\n",
       "    <tr>\n",
       "      <th>764</th>\n",
       "      <td>0.0</td>\n",
       "      <td>0.0</td>\n",
       "      <td>1.0</td>\n",
       "      <td>0.0</td>\n",
       "      <td>1.0</td>\n",
       "      <td>0.0</td>\n",
       "      <td>0.0</td>\n",
       "      <td>0.0</td>\n",
       "      <td>0.0</td>\n",
       "      <td>0.0</td>\n",
       "      <td>0.0</td>\n",
       "      <td>0.0</td>\n",
       "      <td>0.0</td>\n",
       "      <td>0.0</td>\n",
       "      <td>0.0</td>\n",
       "      <td>0.0</td>\n",
       "      <td>0.0</td>\n",
       "      <td>0.0</td>\n",
       "      <td>0.0</td>\n",
       "    </tr>\n",
       "    <tr>\n",
       "      <th>765</th>\n",
       "      <td>0.0</td>\n",
       "      <td>0.0</td>\n",
       "      <td>1.0</td>\n",
       "      <td>0.0</td>\n",
       "      <td>0.0</td>\n",
       "      <td>0.0</td>\n",
       "      <td>0.0</td>\n",
       "      <td>0.0</td>\n",
       "      <td>0.0</td>\n",
       "      <td>0.0</td>\n",
       "      <td>0.0</td>\n",
       "      <td>0.0</td>\n",
       "      <td>0.0</td>\n",
       "      <td>0.0</td>\n",
       "      <td>0.0</td>\n",
       "      <td>0.0</td>\n",
       "      <td>0.0</td>\n",
       "      <td>0.0</td>\n",
       "      <td>1.0</td>\n",
       "    </tr>\n",
       "  </tbody>\n",
       "</table>\n",
       "<p>766 rows × 19 columns</p>\n",
       "</div>"
      ],
      "text/plain": [
       "     rating_NC-17  rating_PG  rating_PG-13  rating_R  category_Animation  \\\n",
       "0             1.0        0.0           0.0       0.0                 0.0   \n",
       "1             0.0        0.0           0.0       1.0                 0.0   \n",
       "2             1.0        0.0           0.0       0.0                 0.0   \n",
       "3             0.0        1.0           0.0       0.0                 1.0   \n",
       "4             1.0        0.0           0.0       0.0                 0.0   \n",
       "..            ...        ...           ...       ...                 ...   \n",
       "761           0.0        1.0           0.0       0.0                 0.0   \n",
       "762           0.0        0.0           0.0       1.0                 0.0   \n",
       "763           0.0        0.0           0.0       1.0                 0.0   \n",
       "764           0.0        0.0           1.0       0.0                 1.0   \n",
       "765           0.0        0.0           1.0       0.0                 0.0   \n",
       "\n",
       "     category_Children  category_Classics  category_Comedy  \\\n",
       "0                  0.0                0.0              0.0   \n",
       "1                  0.0                0.0              0.0   \n",
       "2                  0.0                0.0              0.0   \n",
       "3                  0.0                0.0              0.0   \n",
       "4                  0.0                0.0              0.0   \n",
       "..                 ...                ...              ...   \n",
       "761                0.0                0.0              0.0   \n",
       "762                0.0                0.0              0.0   \n",
       "763                0.0                0.0              0.0   \n",
       "764                0.0                0.0              0.0   \n",
       "765                0.0                0.0              0.0   \n",
       "\n",
       "     category_Documentary  category_Drama  category_Family  category_Foreign  \\\n",
       "0                     0.0             0.0              0.0               0.0   \n",
       "1                     0.0             0.0              0.0               0.0   \n",
       "2                     0.0             0.0              0.0               0.0   \n",
       "3                     0.0             0.0              0.0               0.0   \n",
       "4                     0.0             0.0              0.0               0.0   \n",
       "..                    ...             ...              ...               ...   \n",
       "761                   0.0             0.0              0.0               0.0   \n",
       "762                   0.0             0.0              0.0               0.0   \n",
       "763                   0.0             1.0              0.0               0.0   \n",
       "764                   0.0             0.0              0.0               0.0   \n",
       "765                   0.0             0.0              0.0               0.0   \n",
       "\n",
       "     category_Games  category_Horror  category_Music  category_New  \\\n",
       "0               0.0              0.0             0.0           0.0   \n",
       "1               0.0              0.0             0.0           0.0   \n",
       "2               0.0              0.0             0.0           1.0   \n",
       "3               0.0              0.0             0.0           0.0   \n",
       "4               0.0              0.0             0.0           0.0   \n",
       "..              ...              ...             ...           ...   \n",
       "761             0.0              0.0             0.0           0.0   \n",
       "762             1.0              0.0             0.0           0.0   \n",
       "763             0.0              0.0             0.0           0.0   \n",
       "764             0.0              0.0             0.0           0.0   \n",
       "765             0.0              0.0             0.0           0.0   \n",
       "\n",
       "     category_Sci-Fi  category_Sports  category_Travel  \n",
       "0                0.0              0.0              0.0  \n",
       "1                0.0              1.0              0.0  \n",
       "2                0.0              0.0              0.0  \n",
       "3                0.0              0.0              0.0  \n",
       "4                0.0              1.0              0.0  \n",
       "..               ...              ...              ...  \n",
       "761              1.0              0.0              0.0  \n",
       "762              0.0              0.0              0.0  \n",
       "763              0.0              0.0              0.0  \n",
       "764              0.0              0.0              0.0  \n",
       "765              0.0              0.0              1.0  \n",
       "\n",
       "[766 rows x 19 columns]"
      ]
     },
     "execution_count": 19,
     "metadata": {},
     "output_type": "execute_result"
    }
   ],
   "source": [
    "from sklearn.preprocessing import OneHotEncoder\n",
    "\n",
    "encoder = OneHotEncoder(drop=\"first\").fit(X_train_cat)\n",
    "\n",
    "# Training data\n",
    "encoded_train = encoder.transform(X_train_cat).toarray()\n",
    "\n",
    "names_train = encoder.get_feature_names_out(['rating', 'category'])\n",
    "encoded_train_df = pd.DataFrame(data=encoded_train, columns = names_train)\n",
    "encoded_train_df"
   ]
  },
  {
   "cell_type": "code",
   "execution_count": 20,
   "id": "77cf5208",
   "metadata": {
    "scrolled": false
   },
   "outputs": [
    {
     "data": {
      "text/html": [
       "<div>\n",
       "<style scoped>\n",
       "    .dataframe tbody tr th:only-of-type {\n",
       "        vertical-align: middle;\n",
       "    }\n",
       "\n",
       "    .dataframe tbody tr th {\n",
       "        vertical-align: top;\n",
       "    }\n",
       "\n",
       "    .dataframe thead th {\n",
       "        text-align: right;\n",
       "    }\n",
       "</style>\n",
       "<table border=\"1\" class=\"dataframe\">\n",
       "  <thead>\n",
       "    <tr style=\"text-align: right;\">\n",
       "      <th></th>\n",
       "      <th>rating_NC-17</th>\n",
       "      <th>rating_PG</th>\n",
       "      <th>rating_PG-13</th>\n",
       "      <th>rating_R</th>\n",
       "      <th>category_Animation</th>\n",
       "      <th>category_Children</th>\n",
       "      <th>category_Classics</th>\n",
       "      <th>category_Comedy</th>\n",
       "      <th>category_Documentary</th>\n",
       "      <th>category_Drama</th>\n",
       "      <th>category_Family</th>\n",
       "      <th>category_Foreign</th>\n",
       "      <th>category_Games</th>\n",
       "      <th>category_Horror</th>\n",
       "      <th>category_Music</th>\n",
       "      <th>category_New</th>\n",
       "      <th>category_Sci-Fi</th>\n",
       "      <th>category_Sports</th>\n",
       "      <th>category_Travel</th>\n",
       "    </tr>\n",
       "  </thead>\n",
       "  <tbody>\n",
       "    <tr>\n",
       "      <th>0</th>\n",
       "      <td>0.0</td>\n",
       "      <td>0.0</td>\n",
       "      <td>1.0</td>\n",
       "      <td>0.0</td>\n",
       "      <td>0.0</td>\n",
       "      <td>0.0</td>\n",
       "      <td>0.0</td>\n",
       "      <td>0.0</td>\n",
       "      <td>0.0</td>\n",
       "      <td>0.0</td>\n",
       "      <td>0.0</td>\n",
       "      <td>0.0</td>\n",
       "      <td>0.0</td>\n",
       "      <td>0.0</td>\n",
       "      <td>0.0</td>\n",
       "      <td>0.0</td>\n",
       "      <td>0.0</td>\n",
       "      <td>1.0</td>\n",
       "      <td>0.0</td>\n",
       "    </tr>\n",
       "    <tr>\n",
       "      <th>1</th>\n",
       "      <td>1.0</td>\n",
       "      <td>0.0</td>\n",
       "      <td>0.0</td>\n",
       "      <td>0.0</td>\n",
       "      <td>0.0</td>\n",
       "      <td>0.0</td>\n",
       "      <td>0.0</td>\n",
       "      <td>0.0</td>\n",
       "      <td>0.0</td>\n",
       "      <td>0.0</td>\n",
       "      <td>0.0</td>\n",
       "      <td>0.0</td>\n",
       "      <td>0.0</td>\n",
       "      <td>0.0</td>\n",
       "      <td>0.0</td>\n",
       "      <td>0.0</td>\n",
       "      <td>0.0</td>\n",
       "      <td>0.0</td>\n",
       "      <td>0.0</td>\n",
       "    </tr>\n",
       "    <tr>\n",
       "      <th>2</th>\n",
       "      <td>1.0</td>\n",
       "      <td>0.0</td>\n",
       "      <td>0.0</td>\n",
       "      <td>0.0</td>\n",
       "      <td>0.0</td>\n",
       "      <td>1.0</td>\n",
       "      <td>0.0</td>\n",
       "      <td>0.0</td>\n",
       "      <td>0.0</td>\n",
       "      <td>0.0</td>\n",
       "      <td>0.0</td>\n",
       "      <td>0.0</td>\n",
       "      <td>0.0</td>\n",
       "      <td>0.0</td>\n",
       "      <td>0.0</td>\n",
       "      <td>0.0</td>\n",
       "      <td>0.0</td>\n",
       "      <td>0.0</td>\n",
       "      <td>0.0</td>\n",
       "    </tr>\n",
       "    <tr>\n",
       "      <th>3</th>\n",
       "      <td>0.0</td>\n",
       "      <td>0.0</td>\n",
       "      <td>1.0</td>\n",
       "      <td>0.0</td>\n",
       "      <td>0.0</td>\n",
       "      <td>0.0</td>\n",
       "      <td>0.0</td>\n",
       "      <td>0.0</td>\n",
       "      <td>0.0</td>\n",
       "      <td>0.0</td>\n",
       "      <td>0.0</td>\n",
       "      <td>0.0</td>\n",
       "      <td>0.0</td>\n",
       "      <td>1.0</td>\n",
       "      <td>0.0</td>\n",
       "      <td>0.0</td>\n",
       "      <td>0.0</td>\n",
       "      <td>0.0</td>\n",
       "      <td>0.0</td>\n",
       "    </tr>\n",
       "    <tr>\n",
       "      <th>4</th>\n",
       "      <td>0.0</td>\n",
       "      <td>1.0</td>\n",
       "      <td>0.0</td>\n",
       "      <td>0.0</td>\n",
       "      <td>0.0</td>\n",
       "      <td>0.0</td>\n",
       "      <td>1.0</td>\n",
       "      <td>0.0</td>\n",
       "      <td>0.0</td>\n",
       "      <td>0.0</td>\n",
       "      <td>0.0</td>\n",
       "      <td>0.0</td>\n",
       "      <td>0.0</td>\n",
       "      <td>0.0</td>\n",
       "      <td>0.0</td>\n",
       "      <td>0.0</td>\n",
       "      <td>0.0</td>\n",
       "      <td>0.0</td>\n",
       "      <td>0.0</td>\n",
       "    </tr>\n",
       "    <tr>\n",
       "      <th>...</th>\n",
       "      <td>...</td>\n",
       "      <td>...</td>\n",
       "      <td>...</td>\n",
       "      <td>...</td>\n",
       "      <td>...</td>\n",
       "      <td>...</td>\n",
       "      <td>...</td>\n",
       "      <td>...</td>\n",
       "      <td>...</td>\n",
       "      <td>...</td>\n",
       "      <td>...</td>\n",
       "      <td>...</td>\n",
       "      <td>...</td>\n",
       "      <td>...</td>\n",
       "      <td>...</td>\n",
       "      <td>...</td>\n",
       "      <td>...</td>\n",
       "      <td>...</td>\n",
       "      <td>...</td>\n",
       "    </tr>\n",
       "    <tr>\n",
       "      <th>187</th>\n",
       "      <td>0.0</td>\n",
       "      <td>0.0</td>\n",
       "      <td>1.0</td>\n",
       "      <td>0.0</td>\n",
       "      <td>0.0</td>\n",
       "      <td>1.0</td>\n",
       "      <td>0.0</td>\n",
       "      <td>0.0</td>\n",
       "      <td>0.0</td>\n",
       "      <td>0.0</td>\n",
       "      <td>0.0</td>\n",
       "      <td>0.0</td>\n",
       "      <td>0.0</td>\n",
       "      <td>0.0</td>\n",
       "      <td>0.0</td>\n",
       "      <td>0.0</td>\n",
       "      <td>0.0</td>\n",
       "      <td>0.0</td>\n",
       "      <td>0.0</td>\n",
       "    </tr>\n",
       "    <tr>\n",
       "      <th>188</th>\n",
       "      <td>1.0</td>\n",
       "      <td>0.0</td>\n",
       "      <td>0.0</td>\n",
       "      <td>0.0</td>\n",
       "      <td>0.0</td>\n",
       "      <td>0.0</td>\n",
       "      <td>0.0</td>\n",
       "      <td>0.0</td>\n",
       "      <td>0.0</td>\n",
       "      <td>0.0</td>\n",
       "      <td>0.0</td>\n",
       "      <td>0.0</td>\n",
       "      <td>0.0</td>\n",
       "      <td>0.0</td>\n",
       "      <td>1.0</td>\n",
       "      <td>0.0</td>\n",
       "      <td>0.0</td>\n",
       "      <td>0.0</td>\n",
       "      <td>0.0</td>\n",
       "    </tr>\n",
       "    <tr>\n",
       "      <th>189</th>\n",
       "      <td>0.0</td>\n",
       "      <td>0.0</td>\n",
       "      <td>0.0</td>\n",
       "      <td>0.0</td>\n",
       "      <td>1.0</td>\n",
       "      <td>0.0</td>\n",
       "      <td>0.0</td>\n",
       "      <td>0.0</td>\n",
       "      <td>0.0</td>\n",
       "      <td>0.0</td>\n",
       "      <td>0.0</td>\n",
       "      <td>0.0</td>\n",
       "      <td>0.0</td>\n",
       "      <td>0.0</td>\n",
       "      <td>0.0</td>\n",
       "      <td>0.0</td>\n",
       "      <td>0.0</td>\n",
       "      <td>0.0</td>\n",
       "      <td>0.0</td>\n",
       "    </tr>\n",
       "    <tr>\n",
       "      <th>190</th>\n",
       "      <td>0.0</td>\n",
       "      <td>0.0</td>\n",
       "      <td>0.0</td>\n",
       "      <td>0.0</td>\n",
       "      <td>0.0</td>\n",
       "      <td>0.0</td>\n",
       "      <td>0.0</td>\n",
       "      <td>1.0</td>\n",
       "      <td>0.0</td>\n",
       "      <td>0.0</td>\n",
       "      <td>0.0</td>\n",
       "      <td>0.0</td>\n",
       "      <td>0.0</td>\n",
       "      <td>0.0</td>\n",
       "      <td>0.0</td>\n",
       "      <td>0.0</td>\n",
       "      <td>0.0</td>\n",
       "      <td>0.0</td>\n",
       "      <td>0.0</td>\n",
       "    </tr>\n",
       "    <tr>\n",
       "      <th>191</th>\n",
       "      <td>0.0</td>\n",
       "      <td>0.0</td>\n",
       "      <td>1.0</td>\n",
       "      <td>0.0</td>\n",
       "      <td>0.0</td>\n",
       "      <td>0.0</td>\n",
       "      <td>0.0</td>\n",
       "      <td>0.0</td>\n",
       "      <td>0.0</td>\n",
       "      <td>0.0</td>\n",
       "      <td>0.0</td>\n",
       "      <td>0.0</td>\n",
       "      <td>0.0</td>\n",
       "      <td>0.0</td>\n",
       "      <td>0.0</td>\n",
       "      <td>1.0</td>\n",
       "      <td>0.0</td>\n",
       "      <td>0.0</td>\n",
       "      <td>0.0</td>\n",
       "    </tr>\n",
       "  </tbody>\n",
       "</table>\n",
       "<p>192 rows × 19 columns</p>\n",
       "</div>"
      ],
      "text/plain": [
       "     rating_NC-17  rating_PG  rating_PG-13  rating_R  category_Animation  \\\n",
       "0             0.0        0.0           1.0       0.0                 0.0   \n",
       "1             1.0        0.0           0.0       0.0                 0.0   \n",
       "2             1.0        0.0           0.0       0.0                 0.0   \n",
       "3             0.0        0.0           1.0       0.0                 0.0   \n",
       "4             0.0        1.0           0.0       0.0                 0.0   \n",
       "..            ...        ...           ...       ...                 ...   \n",
       "187           0.0        0.0           1.0       0.0                 0.0   \n",
       "188           1.0        0.0           0.0       0.0                 0.0   \n",
       "189           0.0        0.0           0.0       0.0                 1.0   \n",
       "190           0.0        0.0           0.0       0.0                 0.0   \n",
       "191           0.0        0.0           1.0       0.0                 0.0   \n",
       "\n",
       "     category_Children  category_Classics  category_Comedy  \\\n",
       "0                  0.0                0.0              0.0   \n",
       "1                  0.0                0.0              0.0   \n",
       "2                  1.0                0.0              0.0   \n",
       "3                  0.0                0.0              0.0   \n",
       "4                  0.0                1.0              0.0   \n",
       "..                 ...                ...              ...   \n",
       "187                1.0                0.0              0.0   \n",
       "188                0.0                0.0              0.0   \n",
       "189                0.0                0.0              0.0   \n",
       "190                0.0                0.0              1.0   \n",
       "191                0.0                0.0              0.0   \n",
       "\n",
       "     category_Documentary  category_Drama  category_Family  category_Foreign  \\\n",
       "0                     0.0             0.0              0.0               0.0   \n",
       "1                     0.0             0.0              0.0               0.0   \n",
       "2                     0.0             0.0              0.0               0.0   \n",
       "3                     0.0             0.0              0.0               0.0   \n",
       "4                     0.0             0.0              0.0               0.0   \n",
       "..                    ...             ...              ...               ...   \n",
       "187                   0.0             0.0              0.0               0.0   \n",
       "188                   0.0             0.0              0.0               0.0   \n",
       "189                   0.0             0.0              0.0               0.0   \n",
       "190                   0.0             0.0              0.0               0.0   \n",
       "191                   0.0             0.0              0.0               0.0   \n",
       "\n",
       "     category_Games  category_Horror  category_Music  category_New  \\\n",
       "0               0.0              0.0             0.0           0.0   \n",
       "1               0.0              0.0             0.0           0.0   \n",
       "2               0.0              0.0             0.0           0.0   \n",
       "3               0.0              1.0             0.0           0.0   \n",
       "4               0.0              0.0             0.0           0.0   \n",
       "..              ...              ...             ...           ...   \n",
       "187             0.0              0.0             0.0           0.0   \n",
       "188             0.0              0.0             1.0           0.0   \n",
       "189             0.0              0.0             0.0           0.0   \n",
       "190             0.0              0.0             0.0           0.0   \n",
       "191             0.0              0.0             0.0           1.0   \n",
       "\n",
       "     category_Sci-Fi  category_Sports  category_Travel  \n",
       "0                0.0              1.0              0.0  \n",
       "1                0.0              0.0              0.0  \n",
       "2                0.0              0.0              0.0  \n",
       "3                0.0              0.0              0.0  \n",
       "4                0.0              0.0              0.0  \n",
       "..               ...              ...              ...  \n",
       "187              0.0              0.0              0.0  \n",
       "188              0.0              0.0              0.0  \n",
       "189              0.0              0.0              0.0  \n",
       "190              0.0              0.0              0.0  \n",
       "191              0.0              0.0              0.0  \n",
       "\n",
       "[192 rows x 19 columns]"
      ]
     },
     "execution_count": 20,
     "metadata": {},
     "output_type": "execute_result"
    }
   ],
   "source": [
    "# test data\n",
    "encoded_test = encoder.transform(X_test_cat).toarray()\n",
    "\n",
    "names_test = encoder.get_feature_names_out(['rating', 'category'])\n",
    "encoded_test_df = pd.DataFrame(data=encoded_test, columns = names_test)\n",
    "encoded_test_df"
   ]
  },
  {
   "cell_type": "markdown",
   "id": "5940151e",
   "metadata": {},
   "source": [
    "## Re-concatenate everything"
   ]
  },
  {
   "cell_type": "code",
   "execution_count": 21,
   "id": "2a728d31",
   "metadata": {},
   "outputs": [],
   "source": [
    "X_train_clean = pd.concat([X_train_norm, encoded_train_df], axis = 1)"
   ]
  },
  {
   "cell_type": "code",
   "execution_count": 22,
   "id": "1b618859",
   "metadata": {},
   "outputs": [],
   "source": [
    "X_test_clean = pd.concat([X_test_norm, encoded_test_df], axis = 1)"
   ]
  },
  {
   "cell_type": "markdown",
   "id": "c9de64fe",
   "metadata": {},
   "source": [
    "## 5. Create a logistic regression model to predict this variable from the cleaned data."
   ]
  },
  {
   "cell_type": "code",
   "execution_count": 23,
   "id": "8ef57e63",
   "metadata": {
    "scrolled": true
   },
   "outputs": [],
   "source": [
    "from sklearn.linear_model import LogisticRegression\n",
    "classification = LogisticRegression(random_state=420, solver='lbfgs').fit(X_train_clean, y_train)"
   ]
  },
  {
   "cell_type": "code",
   "execution_count": 24,
   "id": "986541ae",
   "metadata": {
    "scrolled": false
   },
   "outputs": [
    {
     "data": {
      "text/plain": [
       "0.7395833333333334"
      ]
     },
     "execution_count": 24,
     "metadata": {},
     "output_type": "execute_result"
    }
   ],
   "source": [
    "predictions = classification.predict(X_test_clean)\n",
    "classification.score(X_test_clean, y_test)"
   ]
  },
  {
   "cell_type": "code",
   "execution_count": null,
   "id": "9ed81abf",
   "metadata": {},
   "outputs": [],
   "source": []
  },
  {
   "cell_type": "markdown",
   "id": "56b8df45",
   "metadata": {},
   "source": [
    "## 6. Evaluate the results."
   ]
  },
  {
   "cell_type": "code",
   "execution_count": 25,
   "id": "9b46d935",
   "metadata": {},
   "outputs": [
    {
     "name": "stdout",
     "output_type": "stream",
     "text": [
      "True     142\n",
      "False     50\n",
      "Name: rented_last_month, dtype: int64\n"
     ]
    }
   ],
   "source": [
    "print(y_test.value_counts())"
   ]
  },
  {
   "cell_type": "code",
   "execution_count": 26,
   "id": "ccef4c5d",
   "metadata": {},
   "outputs": [
    {
     "data": {
      "text/plain": [
       "True    192\n",
       "dtype: int64"
      ]
     },
     "execution_count": 26,
     "metadata": {},
     "output_type": "execute_result"
    }
   ],
   "source": [
    "pd.Series(predictions).value_counts()"
   ]
  },
  {
   "cell_type": "markdown",
   "id": "325df23d",
   "metadata": {},
   "source": [
    "### Not great - the predictions are only 'True'. I'll try the KNN method:"
   ]
  },
  {
   "cell_type": "code",
   "execution_count": 47,
   "id": "115c9b45",
   "metadata": {},
   "outputs": [
    {
     "data": {
      "text/plain": [
       "0.6666666666666666"
      ]
     },
     "execution_count": 47,
     "metadata": {},
     "output_type": "execute_result"
    }
   ],
   "source": [
    "from sklearn import neighbors\n",
    "clf = neighbors.KNeighborsClassifier(n_neighbors=5, weights='uniform')\n",
    "clf.fit(X_train_clean, y_train)\n",
    "predictions_clf = clf.predict(X_test_clean)\n",
    "clf.score(X_test_clean, y_test)"
   ]
  },
  {
   "cell_type": "code",
   "execution_count": 48,
   "id": "166a0fa0",
   "metadata": {},
   "outputs": [
    {
     "data": {
      "text/plain": [
       "sklearn.neighbors._classification.KNeighborsClassifier"
      ]
     },
     "execution_count": 48,
     "metadata": {},
     "output_type": "execute_result"
    }
   ],
   "source": [
    "type(clf)"
   ]
  },
  {
   "cell_type": "code",
   "execution_count": 49,
   "id": "34d00461",
   "metadata": {},
   "outputs": [
    {
     "data": {
      "text/plain": [
       "True     162\n",
       "False     30\n",
       "dtype: int64"
      ]
     },
     "execution_count": 49,
     "metadata": {},
     "output_type": "execute_result"
    }
   ],
   "source": [
    "pd.Series(predictions_clf).value_counts()"
   ]
  },
  {
   "cell_type": "markdown",
   "id": "5cd69c2b",
   "metadata": {},
   "source": [
    "That *looks* better in terms of numerical distribution, but the score tells me that it's predicting the wrong ones. "
   ]
  },
  {
   "cell_type": "markdown",
   "id": "e1a3d25a",
   "metadata": {},
   "source": [
    "From fiddling around with the k number of neighbors, I figured out that the score gets higher the more neighbors I add - but this is because it guesses 'True' more often in those cases. In other words: guessing 'True' 100% of the time gives the highest possible score here."
   ]
  },
  {
   "cell_type": "markdown",
   "id": "8bba6223",
   "metadata": {},
   "source": [
    "I'll check what the original distribution of True and False was:"
   ]
  },
  {
   "cell_type": "code",
   "execution_count": 53,
   "id": "15122b94",
   "metadata": {},
   "outputs": [
    {
     "data": {
      "text/plain": [
       "True     686\n",
       "False    272\n",
       "Name: rented_last_month, dtype: int64"
      ]
     },
     "execution_count": 53,
     "metadata": {},
     "output_type": "execute_result"
    }
   ],
   "source": [
    "data['rented_last_month'].value_counts()"
   ]
  },
  {
   "cell_type": "markdown",
   "id": "b9265cd2",
   "metadata": {},
   "source": [
    "That does not look all that skewed - it feels like a better prediction *might* be possible. \n",
    "\n",
    "However, I also know that this is a synthetic dataset, and I am starting to suspect that there are no real correlations between *any* of the features.\n",
    "\n",
    "(This is also, for example, why all of the rentals take place in 2005, while all of the films are released in 2006. Time travel, or synthetic data?) "
   ]
  }
 ],
 "metadata": {
  "kernelspec": {
   "display_name": "Python 3 (ipykernel)",
   "language": "python",
   "name": "python3"
  },
  "language_info": {
   "codemirror_mode": {
    "name": "ipython",
    "version": 3
   },
   "file_extension": ".py",
   "mimetype": "text/x-python",
   "name": "python",
   "nbconvert_exporter": "python",
   "pygments_lexer": "ipython3",
   "version": "3.10.6"
  }
 },
 "nbformat": 4,
 "nbformat_minor": 5
}
