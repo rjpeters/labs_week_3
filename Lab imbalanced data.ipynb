{
 "cells": [
  {
   "cell_type": "markdown",
   "id": "f4332a1f",
   "metadata": {},
   "source": [
    "# Lab Imbalanced Data"
   ]
  },
  {
   "cell_type": "markdown",
   "id": "d0b9cc4a",
   "metadata": {},
   "source": [
    "\n",
    "Instructions\n",
    "\n",
    "-    Load the dataset and explore the variables.\n",
    "-    We will try to predict variable Churn using a logistic regression on variables tenure, SeniorCitizen,MonthlyCharges.\n",
    "-    Extract the target variable.\n",
    "-    Extract the independent variables and scale them.\n",
    "-    Build the logistic regression model.\n",
    "-    Evaluate the model.\n",
    "-    Even a simple model will give us more than 70% accuracy. Why?\n",
    "-    Synthetic Minority Oversampling TEchnique (SMOTE) is an over sampling technique based on nearest neighbors that adds new points between existing points. Apply imblearn.over_sampling.SMOTE to the dataset. Build and evaluate the logistic regression model. Is it there any improvement?\n"
   ]
  },
  {
   "cell_type": "markdown",
   "id": "d29192ce",
   "metadata": {},
   "source": [
    "## Load the dataset and explore the variables."
   ]
  },
  {
   "cell_type": "code",
   "execution_count": null,
   "id": "f1df4a93",
   "metadata": {},
   "outputs": [],
   "source": [
    "# Import time! \n",
    "\n",
    "import pandas as pd\n",
    "import numpy as np\n",
    "import seaborn as sns\n",
    "from sklearn.preprocessing import MinMaxScaler\n",
    "from sklearn.preprocessing import OneHotEncoder\n",
    "from sklearn.linear_model import LogisticRegression\n",
    "from sklearn.model_selection import train_test_split\n",
    "from sklearn.metrics import confusion_matrix\n",
    "from sklearn.metrics import precision_score\n",
    "from sklearn.metrics import recall_score\n",
    "from sklearn.metrics import f1_score\n",
    "\n",
    "from imblearn.over_sampling import SMOTE"
   ]
  },
  {
   "cell_type": "code",
   "execution_count": null,
   "id": "774466e1",
   "metadata": {},
   "outputs": [],
   "source": [
    "# Data loading time!\n",
    "\n",
    "data = pd.read_csv('customer_churn.csv')"
   ]
  },
  {
   "cell_type": "code",
   "execution_count": null,
   "id": "ad4421e6",
   "metadata": {},
   "outputs": [],
   "source": [
    "# Data exploring time!\n",
    "\n",
    "data.head(60)"
   ]
  },
  {
   "cell_type": "markdown",
   "id": "01c464c0",
   "metadata": {},
   "source": [
    "The data appears to be about phone/internet service. I had to do some googling to figure out what 'tenure' and 'churn' means. As far as I can tell: \n",
    "- Churn (yes/no) means whether the customer discontinued their service (yes or no).\n",
    "- Tenure is the number of months a customer has been around. This checks out, because TotalCharges = MonthlyCharges x tenure.\n",
    "\n"
   ]
  },
  {
   "cell_type": "code",
   "execution_count": null,
   "id": "3bb8d0d4",
   "metadata": {},
   "outputs": [],
   "source": [
    "data.dtypes"
   ]
  },
  {
   "cell_type": "code",
   "execution_count": null,
   "id": "df9da082",
   "metadata": {
    "scrolled": true
   },
   "outputs": [],
   "source": [
    "data.describe()"
   ]
  },
  {
   "cell_type": "markdown",
   "id": "3c5a5855",
   "metadata": {},
   "source": [
    "Lots of categorical data; within the numerical data, the Senior Citizen is more of a boolean than a real numerical value (1/0)"
   ]
  },
  {
   "cell_type": "code",
   "execution_count": null,
   "id": "f1763744",
   "metadata": {
    "scrolled": true
   },
   "outputs": [],
   "source": [
    "data.isna().sum()"
   ]
  },
  {
   "cell_type": "markdown",
   "id": "724d82c0",
   "metadata": {},
   "source": [
    "No NaN values, so that's nice."
   ]
  },
  {
   "cell_type": "markdown",
   "id": "e570e5e6",
   "metadata": {},
   "source": [
    "Since the features I will work with are the numerical ones, I'll check those out more closely."
   ]
  },
  {
   "cell_type": "code",
   "execution_count": null,
   "id": "2c276495",
   "metadata": {},
   "outputs": [],
   "source": [
    "sns.displot(data.tenure, kde= True)"
   ]
  },
  {
   "cell_type": "code",
   "execution_count": null,
   "id": "e60fe7af",
   "metadata": {
    "scrolled": true
   },
   "outputs": [],
   "source": [
    "sns.displot(data.MonthlyCharges, kde=True)"
   ]
  },
  {
   "cell_type": "markdown",
   "id": "b7f8a3e2",
   "metadata": {},
   "source": [
    "There are no outliers that need to be taken care of. So that saves a few steps!"
   ]
  },
  {
   "cell_type": "markdown",
   "id": "300deb2c",
   "metadata": {},
   "source": [
    "I'm also curious what the distributions of values in the SeniorCitizen (1/0) and Churn(True/False) is."
   ]
  },
  {
   "cell_type": "code",
   "execution_count": null,
   "id": "57bc293f",
   "metadata": {},
   "outputs": [],
   "source": [
    "data['SeniorCitizen'].value_counts()"
   ]
  },
  {
   "cell_type": "code",
   "execution_count": null,
   "id": "9315cb4d",
   "metadata": {},
   "outputs": [],
   "source": [
    "data['Churn'].value_counts()"
   ]
  },
  {
   "cell_type": "markdown",
   "id": "2e81a75b",
   "metadata": {},
   "source": [
    "Finally, I'll check out the correlations between the three numerical values:"
   ]
  },
  {
   "cell_type": "code",
   "execution_count": null,
   "id": "7907203b",
   "metadata": {
    "scrolled": true
   },
   "outputs": [],
   "source": [
    "sns.heatmap(data.corr(), annot = True)"
   ]
  },
  {
   "cell_type": "markdown",
   "id": "7e259994",
   "metadata": {},
   "source": [
    "Ok, nothing super spectacular but I'll continue."
   ]
  },
  {
   "cell_type": "markdown",
   "id": "2b0a7d32",
   "metadata": {},
   "source": [
    "## We will try to predict variable Churn using a logistic regression on variables tenure, SeniorCitizen,MonthlyCharges."
   ]
  },
  {
   "cell_type": "code",
   "execution_count": null,
   "id": "24c604aa",
   "metadata": {},
   "outputs": [],
   "source": [
    "data = data[['SeniorCitizen', 'tenure', 'MonthlyCharges', 'Churn']]\n",
    "\n",
    "display(data.head())\n",
    "\n",
    "display(data.shape)"
   ]
  },
  {
   "cell_type": "markdown",
   "id": "38a0bb93",
   "metadata": {},
   "source": [
    "## Extract the target variable."
   ]
  },
  {
   "cell_type": "code",
   "execution_count": null,
   "id": "774f1322",
   "metadata": {},
   "outputs": [],
   "source": [
    "y = data['Churn']"
   ]
  },
  {
   "cell_type": "markdown",
   "id": "ddedd2ac",
   "metadata": {},
   "source": [
    "## Extract the independent variables and scale them."
   ]
  },
  {
   "cell_type": "code",
   "execution_count": null,
   "id": "d8b2b9a4",
   "metadata": {},
   "outputs": [],
   "source": [
    "X = data.select_dtypes(include=np.number)"
   ]
  },
  {
   "cell_type": "markdown",
   "id": "f5780387",
   "metadata": {},
   "source": [
    "### Time for a train-test split!"
   ]
  },
  {
   "cell_type": "code",
   "execution_count": null,
   "id": "7fc9266a",
   "metadata": {},
   "outputs": [],
   "source": [
    "X_train, X_test, y_train, y_test = train_test_split(X, y, test_size=0.2, random_state=666)"
   ]
  },
  {
   "cell_type": "markdown",
   "id": "52863eda",
   "metadata": {},
   "source": [
    "I'm not 100% sure if I should also scale the SeniorCitizen column - but just thinking out loud: the MinMaxScaler uses 0 for the minimum and 1 for the maximum value, so it should not matter. I'll scale the whole enchilada and then check if I do indeed only get 1s and 0s for the SeniorCitizen column."
   ]
  },
  {
   "cell_type": "code",
   "execution_count": null,
   "id": "8fd9df11",
   "metadata": {
    "scrolled": true
   },
   "outputs": [],
   "source": [
    "scaler = MinMaxScaler().fit(X_train)\n",
    "\n",
    "X_train_scaled = scaler.transform(X_train)\n",
    "X_test_scaled = scaler.transform(X_test)\n",
    "\n",
    "X_train = pd.DataFrame(data = X_train_scaled, columns = X.columns)\n",
    "X_test = pd.DataFrame(data = X_test_scaled, columns = X.columns)"
   ]
  },
  {
   "cell_type": "code",
   "execution_count": null,
   "id": "14079d4d",
   "metadata": {
    "scrolled": true
   },
   "outputs": [],
   "source": [
    "X_train['SeniorCitizen'].value_counts()"
   ]
  },
  {
   "cell_type": "markdown",
   "id": "a18614f3",
   "metadata": {},
   "source": [
    "Ok, I was right and it encodes the ones and zeroes as ones and zeroes. "
   ]
  },
  {
   "cell_type": "markdown",
   "id": "db6c1798",
   "metadata": {},
   "source": [
    "Next, check if I need to reset any indexes."
   ]
  },
  {
   "cell_type": "code",
   "execution_count": null,
   "id": "dcd99508",
   "metadata": {
    "scrolled": false
   },
   "outputs": [],
   "source": [
    "display(y_test.head())\n",
    "display(X_test.head())"
   ]
  },
  {
   "cell_type": "markdown",
   "id": "176c94f3",
   "metadata": {},
   "source": [
    "It looks like the index for X was reset, but not for y. So here goes:"
   ]
  },
  {
   "cell_type": "code",
   "execution_count": null,
   "id": "9d93e570",
   "metadata": {},
   "outputs": [],
   "source": [
    "y_test = y_test.reset_index(drop=True) \n",
    "y_train = y_train.reset_index(drop=True) "
   ]
  },
  {
   "cell_type": "markdown",
   "id": "82bcc9a9",
   "metadata": {},
   "source": [
    "## Build the logistic regression model."
   ]
  },
  {
   "cell_type": "code",
   "execution_count": null,
   "id": "270ff02c",
   "metadata": {
    "scrolled": true
   },
   "outputs": [],
   "source": [
    "regr = LogisticRegression(random_state=0, solver='lbfgs')\n",
    "\n",
    "regr.fit(X_train, y_train)"
   ]
  },
  {
   "cell_type": "markdown",
   "id": "20e2a02b",
   "metadata": {},
   "source": [
    "## Evaluate the model."
   ]
  },
  {
   "cell_type": "code",
   "execution_count": null,
   "id": "9ca45b42",
   "metadata": {},
   "outputs": [],
   "source": [
    "display(regr.score(X_test, y_test))"
   ]
  },
  {
   "cell_type": "code",
   "execution_count": null,
   "id": "b544512d",
   "metadata": {},
   "outputs": [],
   "source": [
    "pred = regr.predict(X_test)"
   ]
  },
  {
   "cell_type": "code",
   "execution_count": null,
   "id": "c42028ef",
   "metadata": {},
   "outputs": [],
   "source": [
    "display(regr.score(X_test, pred))"
   ]
  },
  {
   "cell_type": "markdown",
   "id": "71715e6e",
   "metadata": {},
   "source": [
    "Yikes. A 1.0 score seems fishy. I looked it up, and score is the predictions / real values - so this would suggest that pred == X_test."
   ]
  },
  {
   "cell_type": "code",
   "execution_count": null,
   "id": "e1403ff8",
   "metadata": {},
   "outputs": [],
   "source": [
    "confusion_matrix(y_test,pred)"
   ]
  },
  {
   "cell_type": "markdown",
   "id": "4833ed79",
   "metadata": {},
   "source": [
    "Hmmmm - not sure why this would count as a score of 1.0..."
   ]
  },
  {
   "cell_type": "code",
   "execution_count": null,
   "id": "db10ae23",
   "metadata": {},
   "outputs": [],
   "source": [
    "print(\"precision: \",precision_score(y_test,pred, pos_label = \"Yes\"))\n",
    "print(\"recall: \",recall_score(y_test,pred, pos_label = \"Yes\"))\n",
    "print(\"f1: \",f1_score(y_test,pred, pos_label = \"Yes\"))\n",
    "\n"
   ]
  },
  {
   "cell_type": "code",
   "execution_count": null,
   "id": "4441d07e",
   "metadata": {},
   "outputs": [],
   "source": [
    "pd.Series(pred).value_counts()"
   ]
  },
  {
   "cell_type": "code",
   "execution_count": null,
   "id": "3b796869",
   "metadata": {
    "scrolled": true
   },
   "outputs": [],
   "source": [
    "pd.Series(y_test).value_counts()"
   ]
  },
  {
   "cell_type": "markdown",
   "id": "292a95a4",
   "metadata": {},
   "source": [
    "Ok, the 1.0 score is a mystery to me..."
   ]
  },
  {
   "cell_type": "markdown",
   "id": "b546d31c",
   "metadata": {},
   "source": [
    "## Even a simple model will give us more than 70% accuracy. Why?"
   ]
  },
  {
   "cell_type": "markdown",
   "id": "11fe53af",
   "metadata": {},
   "source": [
    "Even a model that only ever predicts \"No\" gets 70% accuracy."
   ]
  },
  {
   "cell_type": "code",
   "execution_count": null,
   "id": "8dc4c2a4",
   "metadata": {},
   "outputs": [],
   "source": [
    "yes = len(data[data['Churn'] == \"Yes\"])\n",
    "no = len(data[data['Churn'] == \"No\"])\n",
    "total = len(data)\n",
    "\n",
    "print(no / total * 100)"
   ]
  },
  {
   "cell_type": "markdown",
   "id": "5b21455e",
   "metadata": {},
   "source": [
    "So 73 % of all the Churn is 'No'"
   ]
  },
  {
   "cell_type": "markdown",
   "id": "d26a5b2f",
   "metadata": {},
   "source": [
    "## Synthetic Minority Oversampling TEchnique (SMOTE) is an over sampling technique based on nearest neighbors that adds new points between existing points. Apply imblearn.over_sampling.SMOTE to the dataset. Build and evaluate the logistic regression model. Is it there any improvement?"
   ]
  },
  {
   "cell_type": "code",
   "execution_count": null,
   "id": "5cfc0088",
   "metadata": {},
   "outputs": [],
   "source": [
    "sm = SMOTE(random_state=100, k_neighbors=3)\n",
    "X_train_SMOTE,y_train_SMOTE = sm.fit_resample(X_train ,y_train)"
   ]
  },
  {
   "cell_type": "code",
   "execution_count": null,
   "id": "a14e8b26",
   "metadata": {},
   "outputs": [],
   "source": [
    "X_train_SMOTE.shape"
   ]
  },
  {
   "cell_type": "code",
   "execution_count": null,
   "id": "633cc64f",
   "metadata": {},
   "outputs": [],
   "source": [
    "regr2 = LogisticRegression(random_state=666, solver='lbfgs')\n",
    "regr2.fit(X_train_SMOTE, y_train_SMOTE)\n",
    "pred2 = regr2.predict(X_test)\n",
    "\n",
    "# print(\"precision: \",precision_score(y_test,pred))\n",
    "# print(\"recall: \",recall_score(y_test,pred))\n",
    "# print(\"f1: \",f1_score(y_test,pred))\n",
    "\n"
   ]
  },
  {
   "cell_type": "code",
   "execution_count": null,
   "id": "a2f72231",
   "metadata": {},
   "outputs": [],
   "source": [
    "display(regr2.score(X_test, y_test))"
   ]
  },
  {
   "cell_type": "code",
   "execution_count": null,
   "id": "986903f2",
   "metadata": {},
   "outputs": [],
   "source": [
    "pred2 = regr2.predict(X_test)"
   ]
  },
  {
   "cell_type": "code",
   "execution_count": null,
   "id": "11296d06",
   "metadata": {
    "scrolled": true
   },
   "outputs": [],
   "source": [
    "display(regr2.score(X_test, pred2))"
   ]
  },
  {
   "cell_type": "code",
   "execution_count": null,
   "id": "cecee419",
   "metadata": {},
   "outputs": [],
   "source": [
    "# Still the same mystery of the 1.0 score..."
   ]
  },
  {
   "cell_type": "code",
   "execution_count": null,
   "id": "eff099aa",
   "metadata": {
    "scrolled": false
   },
   "outputs": [],
   "source": [
    "display(confusion_matrix(y_test, pred2))"
   ]
  },
  {
   "cell_type": "code",
   "execution_count": null,
   "id": "099c7fc5",
   "metadata": {
    "scrolled": true
   },
   "outputs": [],
   "source": [
    "# And the previous model:\n",
    "display(confusion_matrix(y_test, pred))"
   ]
  },
  {
   "cell_type": "markdown",
   "id": "d935f96e",
   "metadata": {},
   "source": [
    "The new one is not great - fewer false positives, but more false negatives. Let's compare the precision and recall:"
   ]
  },
  {
   "cell_type": "code",
   "execution_count": null,
   "id": "71d7b7c9",
   "metadata": {},
   "outputs": [],
   "source": [
    "print(\"precision: \",precision_score(y_test,pred2, pos_label = \"Yes\"))\n",
    "print(\"recall: \",recall_score(y_test,pred2, pos_label = \"Yes\"))\n",
    "print(\"f1: \",f1_score(y_test,pred2, pos_label = \"Yes\"))"
   ]
  },
  {
   "cell_type": "code",
   "execution_count": null,
   "id": "a298d370",
   "metadata": {},
   "outputs": [],
   "source": [
    "# The old one again, for comparing them side by side. \n",
    "print(\"precision: \",precision_score(y_test,pred, pos_label = \"Yes\"))\n",
    "print(\"recall: \",recall_score(y_test,pred, pos_label = \"Yes\"))\n",
    "print(\"f1: \",f1_score(y_test,pred, pos_label = \"Yes\"))\n",
    "\n"
   ]
  },
  {
   "cell_type": "markdown",
   "id": "81c72868",
   "metadata": {},
   "source": [
    "So after SMOTE, the recall went up quite drastically, while the precision went down a bit. "
   ]
  }
 ],
 "metadata": {
  "kernelspec": {
   "display_name": "Python 3 (ipykernel)",
   "language": "python",
   "name": "python3"
  },
  "language_info": {
   "codemirror_mode": {
    "name": "ipython",
    "version": 3
   },
   "file_extension": ".py",
   "mimetype": "text/x-python",
   "name": "python",
   "nbconvert_exporter": "python",
   "pygments_lexer": "ipython3",
   "version": "3.10.6"
  }
 },
 "nbformat": 4,
 "nbformat_minor": 5
}
